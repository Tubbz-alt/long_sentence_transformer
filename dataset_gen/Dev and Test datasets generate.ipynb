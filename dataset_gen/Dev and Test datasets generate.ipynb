{
 "cells": [
  {
   "cell_type": "markdown",
   "metadata": {},
   "source": [
    "# Generating eval dataset\n",
    "\n",
    "In this notebook i export dev and test dataset in the format:\n",
    "\n",
    "<code> qid | query | docid | doc </code>\n",
    "\n",
    "To make the evaluation of our document ranking model."
   ]
  },
  {
   "cell_type": "code",
   "execution_count": 5,
   "metadata": {},
   "outputs": [
    {
     "name": "stdout",
     "output_type": "stream",
     "text": [
      "--2020-06-07 00:11:11--  https://msmarco.blob.core.windows.net/msmarcoranking/msmarco-docdev-queries.tsv.gz\n",
      "Resolving msmarco.blob.core.windows.net (msmarco.blob.core.windows.net)... 40.112.152.16\n",
      "Connecting to msmarco.blob.core.windows.net (msmarco.blob.core.windows.net)|40.112.152.16|:443... connected.\n",
      "HTTP request sent, awaiting response... 200 OK\n",
      "Length: 91837 (90K) [application/x-gzip]\n",
      "Saving to: ‘msmarco-docdev-queries.tsv.gz’\n",
      "\n",
      "msmarco-docdev-quer 100%[===================>]  89.68K   261KB/s    in 0.3s    \n",
      "\n",
      "2020-06-07 00:11:13 (261 KB/s) - ‘msmarco-docdev-queries.tsv.gz’ saved [91837/91837]\n",
      "\n",
      "--2020-06-07 00:11:13--  https://msmarco.blob.core.windows.net/msmarcoranking/msmarco-docdev-top100.gz\n",
      "Resolving msmarco.blob.core.windows.net (msmarco.blob.core.windows.net)... 40.112.152.16\n",
      "Connecting to msmarco.blob.core.windows.net (msmarco.blob.core.windows.net)|40.112.152.16|:443... connected.\n",
      "HTTP request sent, awaiting response... 200 OK\n",
      "Length: 5701839 (5.4M) [application/x-gzip]\n",
      "Saving to: ‘msmarco-docdev-top100.gz’\n",
      "\n",
      "msmarco-docdev-top1 100%[===================>]   5.44M  1.87MB/s    in 2.9s    \n",
      "\n",
      "2020-06-07 00:11:17 (1.87 MB/s) - ‘msmarco-docdev-top100.gz’ saved [5701839/5701839]\n",
      "\n",
      "--2020-06-07 00:11:17--  https://msmarco.blob.core.windows.net/msmarcoranking/msmarco-docdev-qrels.tsv.gz\n",
      "Resolving msmarco.blob.core.windows.net (msmarco.blob.core.windows.net)... 40.112.152.16\n",
      "Connecting to msmarco.blob.core.windows.net (msmarco.blob.core.windows.net)|40.112.152.16|:443... connected.\n",
      "HTTP request sent, awaiting response... 200 OK\n",
      "Length: 38553 (38K) [application/x-gzip]\n",
      "Saving to: ‘msmarco-docdev-qrels.tsv.gz’\n",
      "\n",
      "msmarco-docdev-qrel 100%[===================>]  37.65K   220KB/s    in 0.2s    \n",
      "\n",
      "2020-06-07 00:11:18 (220 KB/s) - ‘msmarco-docdev-qrels.tsv.gz’ saved [38553/38553]\n",
      "\n",
      "--2020-06-07 00:11:18--  https://msmarco.blob.core.windows.net/msmarcoranking/msmarco-test2019-queries.tsv.gz\n",
      "Resolving msmarco.blob.core.windows.net (msmarco.blob.core.windows.net)... 40.112.152.16\n",
      "Connecting to msmarco.blob.core.windows.net (msmarco.blob.core.windows.net)|40.112.152.16|:443... connected.\n",
      "HTTP request sent, awaiting response... 200 OK\n",
      "Length: 4276 (4.2K) [application/x-gzip]\n",
      "Saving to: ‘msmarco-test2019-queries.tsv.gz’\n",
      "\n",
      "msmarco-test2019-qu 100%[===================>]   4.18K  --.-KB/s    in 0s      \n",
      "\n",
      "2020-06-07 00:11:19 (40.9 MB/s) - ‘msmarco-test2019-queries.tsv.gz’ saved [4276/4276]\n",
      "\n",
      "--2020-06-07 00:11:19--  https://msmarco.blob.core.windows.net/msmarcoranking/msmarco-doctest2019-top100.gz\n",
      "Resolving msmarco.blob.core.windows.net (msmarco.blob.core.windows.net)... 40.112.152.16\n",
      "Connecting to msmarco.blob.core.windows.net (msmarco.blob.core.windows.net)|40.112.152.16|:443... connected.\n",
      "HTTP request sent, awaiting response... 200 OK\n",
      "Length: 220457 (215K) [application/x-gzip]\n",
      "Saving to: ‘msmarco-doctest2019-top100.gz’\n",
      "\n",
      "msmarco-doctest2019 100%[===================>] 215.29K   251KB/s    in 0.9s    \n",
      "\n",
      "2020-06-07 00:11:21 (251 KB/s) - ‘msmarco-doctest2019-top100.gz’ saved [220457/220457]\n",
      "\n",
      "--2020-06-07 00:11:21--  https://trec.nist.gov/data/deep/2019qrels-docs.txt\n",
      "Resolving trec.nist.gov (trec.nist.gov)... 129.6.13.51, 2610:20:6b01:4::36\n",
      "Connecting to trec.nist.gov (trec.nist.gov)|129.6.13.51|:443... connected.\n",
      "HTTP request sent, awaiting response... 200 OK\n",
      "Length: 339438 (331K) [text/plain]\n",
      "Saving to: ‘2019qrels-docs.txt’\n",
      "\n",
      "2019qrels-docs.txt  100%[===================>] 331.48K   618KB/s    in 0.5s    \n",
      "\n",
      "2020-06-07 00:11:23 (618 KB/s) - ‘2019qrels-docs.txt’ saved [339438/339438]\n",
      "\n"
     ]
    }
   ],
   "source": [
    "# Downloading data\n",
    "! wget https://msmarco.blob.core.windows.net/msmarcoranking/msmarco-docdev-queries.tsv.gz\n",
    "! wget https://msmarco.blob.core.windows.net/msmarcoranking/msmarco-docdev-top100.gz\n",
    "! wget https://msmarco.blob.core.windows.net/msmarcoranking/msmarco-docdev-qrels.tsv.gz\n",
    "    \n",
    "! wget https://msmarco.blob.core.windows.net/msmarcoranking/msmarco-test2019-queries.tsv.gz\n",
    "! wget https://msmarco.blob.core.windows.net/msmarcoranking/msmarco-doctest2019-top100.gz\n",
    "! wget https://trec.nist.gov/data/deep/2019qrels-docs.txt"
   ]
  },
  {
   "cell_type": "code",
   "execution_count": 8,
   "metadata": {},
   "outputs": [],
   "source": [
    "import gzip\n",
    "import random\n",
    "import time\n",
    "import csv"
   ]
  },
  {
   "cell_type": "markdown",
   "metadata": {},
   "source": [
    "# Lets store dev and test queries"
   ]
  },
  {
   "cell_type": "code",
   "execution_count": 17,
   "metadata": {},
   "outputs": [],
   "source": [
    "# Vamos armazenar \n",
    "path = \"msmarco-docdev-queries.tsv.gz\"\n",
    "\n",
    "dev_queries =  {}\n",
    "len_q = []\n",
    "\n",
    "for line in gzip.open(path, mode='rt'):\n",
    "\n",
    "  # items será um vetor onde o primeiro elemento [0] será o qid e o [1] a string de busca\n",
    "  items = line.strip().split('\\t')\n",
    "\n",
    "  # Adicionamos no vetor de queries cada uma das strings de busca\n",
    "  dev_queries[items[0]] = items[1]\n",
    "\n",
    "  # Adicionamos a quantidade de tokens da respectiva query\n",
    "  len_q.append(len(items[1].split()))"
   ]
  },
  {
   "cell_type": "code",
   "execution_count": 18,
   "metadata": {},
   "outputs": [
    {
     "name": "stdout",
     "output_type": "stream",
     "text": [
      "28 5193\n"
     ]
    }
   ],
   "source": [
    "print(max(len_q), len(len_q))"
   ]
  },
  {
   "cell_type": "code",
   "execution_count": 19,
   "metadata": {},
   "outputs": [],
   "source": [
    "# Vamos armazenar \n",
    "path = \"msmarco-test2019-queries.tsv.gz\"\n",
    "\n",
    "test_queries =  {}\n",
    "len_q = []\n",
    "\n",
    "for line in gzip.open(path, mode='rt'):\n",
    "\n",
    "  # items será um vetor onde o primeiro elemento [0] será o qid e o [1] a string de busca\n",
    "  items = line.strip().split('\\t')\n",
    "\n",
    "  # Adicionamos no vetor de queries cada uma das strings de busca\n",
    "  test_queries[items[0]] = items[1]\n",
    "\n",
    "  # Adicionamos a quantidade de tokens da respectiva query\n",
    "  len_q.append(len(items[1].split()))"
   ]
  },
  {
   "cell_type": "code",
   "execution_count": 20,
   "metadata": {},
   "outputs": [
    {
     "name": "stdout",
     "output_type": "stream",
     "text": [
      "13 200\n"
     ]
    }
   ],
   "source": [
    "print(max(len_q), len(len_q))"
   ]
  },
  {
   "cell_type": "markdown",
   "metadata": {},
   "source": [
    "# Now lets store top100 test and dev documents"
   ]
  },
  {
   "cell_type": "code",
   "execution_count": 22,
   "metadata": {},
   "outputs": [],
   "source": [
    "# Reading top 100 \n",
    "import csv \n",
    "dev_top100 = {}\n",
    "with gzip.open(\"msmarco-docdev-top100.gz\", 'rt', encoding='utf8') as top100f:\n",
    "    \n",
    "    for line in top100f:\n",
    "        [topicid, _, unjudged_docid, rank, _, _] = line.split()\n",
    "        \n",
    "        if topicid in dev_top100:\n",
    "            dev_top100[topicid].append(unjudged_docid)\n",
    "        else:\n",
    "            dev_top100[topicid] = [unjudged_docid]"
   ]
  },
  {
   "cell_type": "code",
   "execution_count": 23,
   "metadata": {},
   "outputs": [
    {
     "name": "stdout",
     "output_type": "stream",
     "text": [
      "5193\n"
     ]
    }
   ],
   "source": [
    "print(len(dev_top100))"
   ]
  },
  {
   "cell_type": "code",
   "execution_count": 25,
   "metadata": {},
   "outputs": [],
   "source": [
    "# Reading top 100 \n",
    "import csv \n",
    "test_top100 = {}\n",
    "with gzip.open(\"msmarco-doctest2019-top100.gz\", 'rt', encoding='utf8') as top100f:\n",
    "    \n",
    "    for line in top100f:\n",
    "        [topicid, _, unjudged_docid, rank, _, _] = line.split()\n",
    "        \n",
    "        if topicid in test_top100:\n",
    "            test_top100[topicid].append(unjudged_docid)\n",
    "        else:\n",
    "            test_top100[topicid] = [unjudged_docid]"
   ]
  },
  {
   "cell_type": "code",
   "execution_count": 26,
   "metadata": {
    "scrolled": true
   },
   "outputs": [
    {
     "name": "stdout",
     "output_type": "stream",
     "text": [
      "200\n"
     ]
    }
   ],
   "source": [
    "print(len(test_top100))"
   ]
  },
  {
   "cell_type": "markdown",
   "metadata": {},
   "source": [
    "# Storing qrels in dev and test"
   ]
  },
  {
   "cell_type": "code",
   "execution_count": 45,
   "metadata": {},
   "outputs": [],
   "source": [
    "dev_qrel = {}\n",
    "\n",
    "with gzip.open(\"msmarco-docdev-qrels.tsv.gz\", 'rt', encoding='utf8') as f:\n",
    "    tsvreader = csv.reader(f, delimiter=\" \")\n",
    "    for [topicid, _, docid, rel] in tsvreader:\n",
    "        if(rel == '1'):\n",
    "            if topicid in dev_qrel:\n",
    "                dev_qrel[topicid].append(docid)\n",
    "            else:\n",
    "                dev_qrel[topicid] = [docid]"
   ]
  },
  {
   "cell_type": "code",
   "execution_count": 48,
   "metadata": {},
   "outputs": [],
   "source": [
    "for v in dev_qrel.values():\n",
    "    if(len(v) > 1):\n",
    "        print(len(v))"
   ]
  },
  {
   "cell_type": "code",
   "execution_count": 44,
   "metadata": {},
   "outputs": [],
   "source": [
    "test_qrel = {}\n",
    "\n",
    "with open(\"2019qrels-docs.txt\", 'rt', encoding='utf8') as f:\n",
    "    tsvreader = csv.reader(f, delimiter=\" \")\n",
    "    for [topicid, _, docid, rel] in tsvreader:\n",
    "        if(rel == '1'):\n",
    "            if topicid in test_qrel:\n",
    "                test_qrel[topicid].append(docid)\n",
    "            else:\n",
    "                test_qrel[topicid] = [docid]"
   ]
  },
  {
   "cell_type": "code",
   "execution_count": 49,
   "metadata": {},
   "outputs": [
    {
     "name": "stdout",
     "output_type": "stream",
     "text": [
      "41\n",
      "628\n",
      "142\n",
      "109\n",
      "36\n",
      "28\n",
      "21\n",
      "12\n",
      "181\n",
      "118\n",
      "15\n",
      "48\n",
      "28\n",
      "133\n",
      "145\n",
      "33\n",
      "147\n",
      "171\n",
      "358\n",
      "32\n",
      "35\n",
      "33\n",
      "136\n",
      "3\n",
      "45\n",
      "2\n",
      "40\n",
      "240\n",
      "32\n",
      "223\n",
      "26\n",
      "235\n",
      "64\n",
      "51\n",
      "335\n",
      "266\n",
      "51\n",
      "248\n",
      "28\n",
      "14\n",
      "73\n"
     ]
    }
   ],
   "source": [
    "for v in test_qrel.values():\n",
    "    if(len(v) > 1):\n",
    "        print(len(v))"
   ]
  },
  {
   "cell_type": "code",
   "execution_count": 51,
   "metadata": {},
   "outputs": [
    {
     "name": "stdout",
     "output_type": "stream",
     "text": [
      "A célula demorou 975.1222608089447s para rodar. O código detectou 12014 linhas sem 4 itens.\n"
     ]
    }
   ],
   "source": [
    "# Documents\n",
    "\n",
    "init_time = time.time()\n",
    "# Vamos armazenar \n",
    "path = \"msmarco-docs.tsv.gz\"\n",
    "\n",
    "docs = dict()\n",
    "# length body\n",
    "len_b = []\n",
    "# length title\n",
    "len_t = []\n",
    "# length total\n",
    "len_total = []\n",
    "\n",
    "n_fail = 0 # Quantidade de arquivos sem 4 elementos\n",
    "i = 0\n",
    "for line in gzip.open(path, mode='rt'):\n",
    "\n",
    "  # items será um vetor onde o segundo elemento [2] será a string do title e o [3] a string do body\n",
    "    items = line.strip().split('\\t')\n",
    "\n",
    "\n",
    "    # Se items não tiver shape [1,4] então não armazenamos nada (tem casos que não tem título e nem body)\n",
    "    if(len(items) == 4):\n",
    "        total = items[2] + ' ' + items[3]\n",
    "\n",
    "      # Adicionamos no vetor de queries cada uma das strings de busca\n",
    "        docs[items[0]] = total\n",
    "\n",
    "      # Adicionamos a quantidade de tokens da respectiva query\n",
    "        len_b.append(len(items[3].split()))\n",
    "        len_t.append(len(items[2].split()))\n",
    "        len_total.append(len(total.split()))\n",
    "\n",
    "    else:\n",
    "        n_fail += 1\n",
    "\n",
    "end_time = time.time()\n",
    "\n",
    "print(f\"A célula demorou {end_time - init_time}s para rodar. O código detectou {n_fail} linhas sem 4 itens.\")"
   ]
  },
  {
   "cell_type": "markdown",
   "metadata": {},
   "source": [
    "# So now we need to create the dev and test dataset that we we will run and rank to evaluate\n",
    "\n",
    "To this we need files in the format: \n",
    "\n",
    "<code> qid | query | docid | document </code>\n",
    "\n",
    "Where qid will be the same every 100 steps"
   ]
  },
  {
   "cell_type": "code",
   "execution_count": 52,
   "metadata": {},
   "outputs": [
    {
     "data": {
      "text/plain": [
       "'174249'"
      ]
     },
     "execution_count": 52,
     "metadata": {},
     "output_type": "execute_result"
    }
   ],
   "source": [
    "list(dev_queries.keys())[0]"
   ]
  },
  {
   "cell_type": "code",
   "execution_count": 54,
   "metadata": {},
   "outputs": [
    {
     "data": {
      "text/plain": [
       "['D3126539',\n",
       " 'D978773',\n",
       " 'D399803',\n",
       " 'D2204704',\n",
       " 'D3126541',\n",
       " 'D398816',\n",
       " 'D2168983',\n",
       " 'D3126537',\n",
       " 'D3297846',\n",
       " 'D531991',\n",
       " 'D2479861',\n",
       " 'D3281599',\n",
       " 'D627773',\n",
       " 'D2012180',\n",
       " 'D1318897',\n",
       " 'D1801824',\n",
       " 'D808582',\n",
       " 'D3126538',\n",
       " 'D873580',\n",
       " 'D2204703',\n",
       " 'D1005285',\n",
       " 'D2763949',\n",
       " 'D1758439',\n",
       " 'D115272',\n",
       " 'D884651',\n",
       " 'D931100',\n",
       " 'D3074165',\n",
       " 'D282707',\n",
       " 'D2115286',\n",
       " 'D3126536',\n",
       " 'D1877918',\n",
       " 'D643861',\n",
       " 'D2286484',\n",
       " 'D2369488',\n",
       " 'D810917',\n",
       " 'D3126540',\n",
       " 'D2054522',\n",
       " 'D2204701',\n",
       " 'D931102',\n",
       " 'D2867946',\n",
       " 'D2774813',\n",
       " 'D1180095',\n",
       " 'D747478',\n",
       " 'D2054518',\n",
       " 'D1820311',\n",
       " 'D3343476',\n",
       " 'D2260493',\n",
       " 'D36404',\n",
       " 'D903538',\n",
       " 'D3143578',\n",
       " 'D1859054',\n",
       " 'D2003228',\n",
       " 'D2282690',\n",
       " 'D3053559',\n",
       " 'D2102549',\n",
       " 'D2015845',\n",
       " 'D1632207',\n",
       " 'D3143575',\n",
       " 'D809059',\n",
       " 'D2544812',\n",
       " 'D3189144',\n",
       " 'D3144156',\n",
       " 'D1124473',\n",
       " 'D1227017',\n",
       " 'D655257',\n",
       " 'D1809352',\n",
       " 'D2869616',\n",
       " 'D1407030',\n",
       " 'D3144154',\n",
       " 'D2241255',\n",
       " 'D3066281',\n",
       " 'D2210293',\n",
       " 'D2749624',\n",
       " 'D3209412',\n",
       " 'D3114612',\n",
       " 'D3024420',\n",
       " 'D954842',\n",
       " 'D2736584',\n",
       " 'D2553221',\n",
       " 'D893488',\n",
       " 'D415876',\n",
       " 'D1393746',\n",
       " 'D601038',\n",
       " 'D2941620',\n",
       " 'D2500683',\n",
       " 'D727953',\n",
       " 'D1555534',\n",
       " 'D1429909',\n",
       " 'D2370023',\n",
       " 'D2909587',\n",
       " 'D982248',\n",
       " 'D2597681',\n",
       " 'D3014292',\n",
       " 'D3327319',\n",
       " 'D1362650',\n",
       " 'D2306707',\n",
       " 'D2023672',\n",
       " 'D3356390',\n",
       " 'D268934',\n",
       " 'D2222905']"
      ]
     },
     "execution_count": 54,
     "metadata": {},
     "output_type": "execute_result"
    }
   ],
   "source": [
    "dev_top100['174249']"
   ]
  },
  {
   "cell_type": "code",
   "execution_count": 61,
   "metadata": {},
   "outputs": [],
   "source": [
    "def generate_eval_df(outfile, df = 'dev', gen = True):\n",
    "    \n",
    "    debug_results = []\n",
    "    \n",
    "    with open(outfile, 'w', encoding=\"utf8\") as out:\n",
    "        \n",
    "        errors = 0\n",
    "        \n",
    "        if(df == 'dev'):\n",
    "            top100 = dev_top100\n",
    "            queries = dev_queries\n",
    "        else:\n",
    "            top100 = test_top100\n",
    "            queries = test_queries\n",
    "        \n",
    "        qids = list(queries.keys())\n",
    "        \n",
    "\n",
    "        for q in qids:\n",
    "            try:\n",
    "                for docid in top100[q]:\n",
    "                    try:\n",
    "                        \n",
    "                        if(gen):\n",
    "                            debug_results.append([q, queries[q], docid, docs[docid]])\n",
    "                        else:\n",
    "                            out.write(q + \"\\t\" + queries[q] + \"\\t\" + docid + \"\\t\" + docs[docid] + \"\\n\")\n",
    "                        \n",
    "                    except:\n",
    "                        errors += 1\n",
    "                        continue\n",
    "            except:\n",
    "                errors += 1\n",
    "                continue\n",
    "        \n",
    "    return debug_results, errors"
   ]
  },
  {
   "cell_type": "markdown",
   "metadata": {},
   "source": [
    "# Generating eval datasets"
   ]
  },
  {
   "cell_type": "code",
   "execution_count": 72,
   "metadata": {},
   "outputs": [
    {
     "name": "stdout",
     "output_type": "stream",
     "text": [
      "We miss 17 observations by some error\n"
     ]
    }
   ],
   "source": [
    "# DEV EVAL\n",
    "debugs, errors = generate_eval_df('dev_eval.tsv', df = 'dev', gen = False)\n",
    "print(f\"We miss {errors} observations by some error\")"
   ]
  },
  {
   "cell_type": "code",
   "execution_count": 73,
   "metadata": {},
   "outputs": [
    {
     "name": "stdout",
     "output_type": "stream",
     "text": [
      "We miss 1 observations by some error\n"
     ]
    }
   ],
   "source": [
    "# TEST EVAL\n",
    "debugs, errors = generate_eval_df('test_eval.tsv', df = 'test', gen = False)\n",
    "print(f\"We miss {errors} observations by some error\")"
   ]
  },
  {
   "cell_type": "markdown",
   "metadata": {},
   "source": [
    "# Checking the format of these files"
   ]
  },
  {
   "cell_type": "code",
   "execution_count": 79,
   "metadata": {},
   "outputs": [
    {
     "name": "stdout",
     "output_type": "stream",
     "text": [
      "1108939 what slows down the flow of blood D388799 . January, 2013Blood\n",
      "1108939 what slows down the flow of blood D290852 What controls the fl\n",
      "1108939 what slows down the flow of blood D2449334 How does ice affect \n",
      "1108939 what slows down the flow of blood D884740 The Circulatory syst\n",
      "1108939 what slows down the flow of blood D2449337 6 How does the remov\n",
      "1108939 what slows down the flow of blood D1680183 A & P Lecture #4 Stu\n",
      "1108939 what slows down the flow of blood D1107957 Chapter 19, blood ve\n",
      "1108939 what slows down the flow of blood D2772087 Constant flow of blo\n",
      "1108939 what slows down the flow of blood D2143811 Chapter 21: Blood ve\n",
      "1108939 what slows down the flow of blood D290854 Constant flow of blo\n",
      "1108939 what slows down the flow of blood D3486983 Lab7.6 \"67 terms chr\n"
     ]
    }
   ],
   "source": [
    "max_lines = 10\n",
    "lines = 0\n",
    "with open(\"test_eval.tsv\", 'rt', encoding='utf8') as f:\n",
    "    tsvreader = csv.reader(f, delimiter=\"\\t\")\n",
    "    for [qid, query, docid, doc] in tsvreader:\n",
    "        print(qid, query, docid, doc[:20])\n",
    "        \n",
    "        lines += 1 \n",
    "        \n",
    "        if(lines>max_lines):\n",
    "            break"
   ]
  },
  {
   "cell_type": "code",
   "execution_count": 80,
   "metadata": {},
   "outputs": [
    {
     "name": "stdout",
     "output_type": "stream",
     "text": [
      "174249 does xpress bet charge to deposit money in your account D3126539 BetYetu- Registratio\n",
      "174249 does xpress bet charge to deposit money in your account D978773 Insight Prepaid Card\n",
      "174249 does xpress bet charge to deposit money in your account D399803 Is online gambling l\n",
      "174249 does xpress bet charge to deposit money in your account D2204704 Online Betting Sites\n",
      "174249 does xpress bet charge to deposit money in your account D3126541 Elitebet Kenya Paybi\n",
      "174249 does xpress bet charge to deposit money in your account D398816 . Easy Pay Xpress Pl\n",
      "174249 does xpress bet charge to deposit money in your account D2168983 US Greyhound Racing \n",
      "174249 does xpress bet charge to deposit money in your account D3126537 SPORTS BETTING SITES\n",
      "174249 does xpress bet charge to deposit money in your account D3297846 DFW Airport Parking \n",
      "174249 does xpress bet charge to deposit money in your account D531991 Does Charles Schwab \n",
      "174249 does xpress bet charge to deposit money in your account D2479861 Comparison of Dollar\n"
     ]
    }
   ],
   "source": [
    "max_lines = 10\n",
    "lines = 0\n",
    "with open(\"dev_eval.tsv\", 'rt', encoding='utf8') as f:\n",
    "    tsvreader = csv.reader(f, delimiter=\"\\t\")\n",
    "    for [qid, query, docid, doc] in tsvreader:\n",
    "        print(qid, query, docid, doc[:20])\n",
    "        \n",
    "        lines += 1 \n",
    "        \n",
    "        if(lines>max_lines):\n",
    "            break"
   ]
  },
  {
   "cell_type": "code",
   "execution_count": null,
   "metadata": {},
   "outputs": [],
   "source": []
  }
 ],
 "metadata": {
  "kernelspec": {
   "display_name": "Python 3",
   "language": "python",
   "name": "python3"
  },
  "language_info": {
   "codemirror_mode": {
    "name": "ipython",
    "version": 3
   },
   "file_extension": ".py",
   "mimetype": "text/x-python",
   "name": "python",
   "nbconvert_exporter": "python",
   "pygments_lexer": "ipython3",
   "version": "3.7.3"
  }
 },
 "nbformat": 4,
 "nbformat_minor": 4
}
